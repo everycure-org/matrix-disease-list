{
 "cells": [
  {
   "cell_type": "code",
   "execution_count": null,
   "metadata": {},
   "outputs": [
    {
     "name": "stdout",
     "output_type": "stream",
     "text": [
      "[<Record n=<Node element_id='4:066597ec-8503-4cd4-be72-7fc1cbf2acac:0' labels=frozenset({'biolink:NamedThing', 'Entity'}) properties={'name': 'lumen of tube', 'description': 'The inner space within a tube.', 'upstream_data_source': ['rtxkg2'], 'id': 'AEO:0000078', 'category': 'biolink:NamedThing'}>>, <Record n=<Node element_id='4:066597ec-8503-4cd4-be72-7fc1cbf2acac:1' labels=frozenset({'biolink:AnatomicalEntity', 'Entity'}) properties={'name': 'keratin-based structure', 'description': 'Acellular anatomical structure whose predominant constituent is keratin.', 'upstream_data_source': ['rtxkg2'], 'id': 'AEO:0000099', 'category': 'biolink:AnatomicalEntity'}>>, <Record n=<Node element_id='4:066597ec-8503-4cd4-be72-7fc1cbf2acac:2' labels=frozenset({'biolink:AnatomicalEntity', 'Entity'}) properties={'name': 'exoskeletal tissue', 'description': 'A component of the exoskeleton.', 'upstream_data_source': ['rtxkg2'], 'id': 'AEO:0000185', 'category': 'biolink:AnatomicalEntity'}>>, <Record n=<Node element_id='4:066597ec-8503-4cd4-be72-7fc1cbf2acac:3' labels=frozenset({'Entity', 'biolink:InformationContentEntity'}) properties={'name': 'Clinical and Laboratory Standards Institute (CLSI)', 'description': 'The Clinical and Laboratory Standards Institute develops and implements clinical laboratory testing standards.', 'upstream_data_source': ['rtxkg2'], 'id': 'ARO:3004366', 'category': 'biolink:InformationContentEntity'}>>, <Record n=<Node element_id='4:066597ec-8503-4cd4-be72-7fc1cbf2acac:4' labels=frozenset({'Entity', 'biolink:PhysicalEntity'}) properties={'name': 'manual testing platform', 'description': 'Non-automated system of analysis for determining antimicrobial susceptibility.', 'upstream_data_source': ['rtxkg2'], 'id': 'ARO:3004399', 'category': 'biolink:PhysicalEntity'}>>]\n"
     ]
    }
   ],
   "source": [
    "from neo4j import GraphDatabase\n",
    "\n",
    "class Neo4jConnection:\n",
    "    def __init__(self, uri, user, password, database):\n",
    "        self._driver = GraphDatabase.driver(uri, auth=(user, password))\n",
    "        self._database = database\n",
    "\n",
    "    def close(self):\n",
    "        self._driver.close()\n",
    "\n",
    "    def query(self, query, parameters=None):\n",
    "        with self._driver.session(database=self._database) as session:\n",
    "            result = session.run(query, parameters)\n",
    "            return [record for record in result]\n",
    "\n",
    "# Usage\n",
    "uri = \"neo4j+s://neo4j.dev.everycure.org:7687\"  # Replace with your Neo4j URI\n",
    "user = \"neo4j\"  # Replace with your username\n",
    "password = \"changeme-123-safe!\"  # Replace with your password\n",
    "database = \"everycure-v0.4.5\"\n",
    "\n",
    "conn = Neo4jConnection(uri, user, password, database)\n",
    "result = conn.query(\"MATCH (n) RETURN n LIMIT 5\")\n",
    "print(result)\n",
    "conn.close()"
   ]
  },
  {
   "cell_type": "code",
   "execution_count": 14,
   "metadata": {},
   "outputs": [
    {
     "name": "stderr",
     "output_type": "stream",
     "text": [
      "/var/folders/vj/ks1_0k8x3t9ftrwcr0t9vjwr0000gn/T/ipykernel_81816/256043732.py:12: DeprecationWarning: Using a driver after it has been closed is deprecated. Future versions of the driver will raise an error.\n",
      "  with self._driver.session(database=self._database) as session:\n"
     ]
    },
    {
     "name": "stdout",
     "output_type": "stream",
     "text": [
      "[({'path': ['biolink:Drug:close_match', 'biolink:ChemicalEntity:interacts_with', 'biolink:SmallMolecule:affects', 'biolink:Gene:gene_associated_with_condition', 'biolink:Disease:close_match', 'biolink:Disease']}, 26), ({'path': ['biolink:Drug:close_match', 'biolink:ChemicalEntity:interacts_with', 'biolink:Drug:related_to', 'biolink:Disease:subclass_of', 'biolink:Disease:close_match', 'biolink:Disease']}, 10)]\n"
     ]
    }
   ],
   "source": [
    "QUERY = \"\"\"\n",
    "MATCH (start {id: $node1}), (end {id: $node2})\n",
    "MATCH p = allShortestPaths((start)-[*]-(end))\n",
    "WITH p,\n",
    "     [n IN nodes(p) | n.category] AS node_labels,\n",
    "     [r IN relationships(p) | type(r)] AS rel_types\n",
    "WITH [i IN range(0, size(rel_types)-1) | \n",
    "       node_labels[i] + ':' + rel_types[i]] + [node_labels[-1]] AS path_signature\n",
    "RETURN path_signature, COUNT(*) AS count\n",
    "ORDER BY count DESC\n",
    "\"\"\"\n",
    "\n",
    "# Provide your node IDs\n",
    "node1 = \"ATC:B06AA02\"\n",
    "node2 = \"CHV:0000008136\"\n",
    "\n",
    "# Run the query via your connection object\n",
    "results_raw = conn.query(QUERY, parameters={\"node1\": node1, \"node2\": node2})\n",
    "\n",
    "# Transform results into desired JSON-friendly structure\n",
    "simplified_results = [\n",
    "    ({\"path\": record[\"path_signature\"]}, record[\"count\"]) for record in results_raw\n",
    "]\n",
    "\n",
    "# Optional: write to file\n",
    "import json\n",
    "with open(\"simplified_paths.json\", \"w\") as f:\n",
    "    json.dump(simplified_results, f, indent=2)\n",
    "\n",
    "# Preview\n",
    "print(simplified_results[:2])\n"
   ]
  }
 ],
 "metadata": {
  "kernelspec": {
   "display_name": "Python 3",
   "language": "python",
   "name": "python3"
  },
  "language_info": {
   "codemirror_mode": {
    "name": "ipython",
    "version": 3
   },
   "file_extension": ".py",
   "mimetype": "text/x-python",
   "name": "python",
   "nbconvert_exporter": "python",
   "pygments_lexer": "ipython3",
   "version": "3.11.7"
  }
 },
 "nbformat": 4,
 "nbformat_minor": 2
}
